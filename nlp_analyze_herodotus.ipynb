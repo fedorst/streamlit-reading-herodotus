{
 "cells": [
  {
   "cell_type": "code",
   "execution_count": 1,
   "metadata": {
    "collapsed": true
   },
   "outputs": [
    {
     "name": "stdout",
     "output_type": "stream",
     "text": [
      "‎𐤀 CLTK version '1.1.6'.\n",
      "Pipeline for language 'Ancient Greek' (ISO: 'grc'): `GreekNormalizeProcess`, `GreekStanzaProcess`, `GreekEmbeddingsProcess`, `StopsProcess`.\n"
     ]
    }
   ],
   "source": [
    "from cltk import NLP\n",
    "import pandas as pd\n",
    "cltk_nlp = NLP(language=\"grc\")"
   ]
  },
  {
   "cell_type": "code",
   "execution_count": 2,
   "outputs": [],
   "source": [
    "df = pd.read_parquet(\"herodotus_books.parquet\")"
   ],
   "metadata": {
    "collapsed": false
   }
  },
  {
   "cell_type": "code",
   "execution_count": 4,
   "outputs": [
    {
     "data": {
      "text/plain": "     book chapter section quote source  \\\n0       1       1       0  None   None   \n1       1       1       1  None   None   \n2       1       1       2  None   None   \n3       1       1       3  None   None   \n4       1       1       4  None   None   \n...   ...     ...     ...   ...    ...   \n4457    9     121       1  None   None   \n4458    9     122       1  None   None   \n4459    9     122       2  None   None   \n4460    9     122       3  None   None   \n4461    9     122       4  None   None   \n\n                                                   text  \\\n0     *(hrodo/tou *(alikarnhsse/os i(stori/hs a)po/d...   \n1     *perse/wn me/n nun oi( lo/gioi *foi/nikas ai)t...   \n2     to\\ de\\ *)/argos tou=ton to\\n xro/non proei=xe...   \n3     pe/mpth| de\\ h)\\ e(/kth| h(me/rh| a)p' h(=s a)...   \n4     tau/tas sta/sas kata/ pru/mnhn th=s neo\\s w)ne...   \n...                                                 ...   \n4457  tau=ta de\\ poih/santes a)pe/pleon e)s th\\n *(e...   \n4458  tou/tou de\\ *)artau/+ktew tou= a)nakremasqe/nt...   \n4459  &ldquo;e)pei\\ *zeu\\s *pe/rsh|si h(gemoni/hn di...   \n4460  &rdquo; *ku=ros de\\ tau=ta a)kou/sas kai\\ ou) ...   \n4461  w(/ste suggno/ntes *pe/rsai oi)/xonto a)posta/...   \n\n                                                 text_g  \n0     Ἡροδότου Ἁλικαρνησσέος ἱστορίης ἀπόδεξις ἥδε, ...  \n1     Περσέων μέν νυν οἱ λόγιοι Φοίνικας αἰτίους φασ...  \n2     τὸ δὲ Ἄργος τοῦτον τὸν χρόνον προεῖχε ἅπασι τῶ...  \n3     πέμπτῃ δὲ ἢ ἕκτῃ ἡμέρῃ ἀπ' ἧς ἀπίκοντο, ἐξεμπο...  \n4     ταύτας στάσας κατά πρύμνην τῆς νεὸς ὠνέεσθαι τ...  \n...                                                 ...  \n4457  ταῦτα δὲ ποιήσαντες ἀπέπλεον ἐς τὴν Ἑλλάδα, τά...  \n4458  τούτου δὲ Ἀρταΰκτεω τοῦ ἀνακρεμασθέντος προπάτ...  \n4459  &λδθυο;ἐπεὶ Ζεὺς Πέρσῃσι ἡγεμονίην διδοῖ, ἀνδρ...  \n4460  &ρδθυο; Κῦρος δὲ ταῦτα ἀκούσας καὶ οὐ θωμάσας ...  \n4461  ὥστε συγγνόντες Πέρσαι οἴχοντο ἀποστάντες, ἑσσ...  \n\n[4462 rows x 7 columns]",
      "text/html": "<div>\n<style scoped>\n    .dataframe tbody tr th:only-of-type {\n        vertical-align: middle;\n    }\n\n    .dataframe tbody tr th {\n        vertical-align: top;\n    }\n\n    .dataframe thead th {\n        text-align: right;\n    }\n</style>\n<table border=\"1\" class=\"dataframe\">\n  <thead>\n    <tr style=\"text-align: right;\">\n      <th></th>\n      <th>book</th>\n      <th>chapter</th>\n      <th>section</th>\n      <th>quote</th>\n      <th>source</th>\n      <th>text</th>\n      <th>text_g</th>\n    </tr>\n  </thead>\n  <tbody>\n    <tr>\n      <th>0</th>\n      <td>1</td>\n      <td>1</td>\n      <td>0</td>\n      <td>None</td>\n      <td>None</td>\n      <td>*(hrodo/tou *(alikarnhsse/os i(stori/hs a)po/d...</td>\n      <td>Ἡροδότου Ἁλικαρνησσέος ἱστορίης ἀπόδεξις ἥδε, ...</td>\n    </tr>\n    <tr>\n      <th>1</th>\n      <td>1</td>\n      <td>1</td>\n      <td>1</td>\n      <td>None</td>\n      <td>None</td>\n      <td>*perse/wn me/n nun oi( lo/gioi *foi/nikas ai)t...</td>\n      <td>Περσέων μέν νυν οἱ λόγιοι Φοίνικας αἰτίους φασ...</td>\n    </tr>\n    <tr>\n      <th>2</th>\n      <td>1</td>\n      <td>1</td>\n      <td>2</td>\n      <td>None</td>\n      <td>None</td>\n      <td>to\\ de\\ *)/argos tou=ton to\\n xro/non proei=xe...</td>\n      <td>τὸ δὲ Ἄργος τοῦτον τὸν χρόνον προεῖχε ἅπασι τῶ...</td>\n    </tr>\n    <tr>\n      <th>3</th>\n      <td>1</td>\n      <td>1</td>\n      <td>3</td>\n      <td>None</td>\n      <td>None</td>\n      <td>pe/mpth| de\\ h)\\ e(/kth| h(me/rh| a)p' h(=s a)...</td>\n      <td>πέμπτῃ δὲ ἢ ἕκτῃ ἡμέρῃ ἀπ' ἧς ἀπίκοντο, ἐξεμπο...</td>\n    </tr>\n    <tr>\n      <th>4</th>\n      <td>1</td>\n      <td>1</td>\n      <td>4</td>\n      <td>None</td>\n      <td>None</td>\n      <td>tau/tas sta/sas kata/ pru/mnhn th=s neo\\s w)ne...</td>\n      <td>ταύτας στάσας κατά πρύμνην τῆς νεὸς ὠνέεσθαι τ...</td>\n    </tr>\n    <tr>\n      <th>...</th>\n      <td>...</td>\n      <td>...</td>\n      <td>...</td>\n      <td>...</td>\n      <td>...</td>\n      <td>...</td>\n      <td>...</td>\n    </tr>\n    <tr>\n      <th>4457</th>\n      <td>9</td>\n      <td>121</td>\n      <td>1</td>\n      <td>None</td>\n      <td>None</td>\n      <td>tau=ta de\\ poih/santes a)pe/pleon e)s th\\n *(e...</td>\n      <td>ταῦτα δὲ ποιήσαντες ἀπέπλεον ἐς τὴν Ἑλλάδα, τά...</td>\n    </tr>\n    <tr>\n      <th>4458</th>\n      <td>9</td>\n      <td>122</td>\n      <td>1</td>\n      <td>None</td>\n      <td>None</td>\n      <td>tou/tou de\\ *)artau/+ktew tou= a)nakremasqe/nt...</td>\n      <td>τούτου δὲ Ἀρταΰκτεω τοῦ ἀνακρεμασθέντος προπάτ...</td>\n    </tr>\n    <tr>\n      <th>4459</th>\n      <td>9</td>\n      <td>122</td>\n      <td>2</td>\n      <td>None</td>\n      <td>None</td>\n      <td>&amp;ldquo;e)pei\\ *zeu\\s *pe/rsh|si h(gemoni/hn di...</td>\n      <td>&amp;λδθυο;ἐπεὶ Ζεὺς Πέρσῃσι ἡγεμονίην διδοῖ, ἀνδρ...</td>\n    </tr>\n    <tr>\n      <th>4460</th>\n      <td>9</td>\n      <td>122</td>\n      <td>3</td>\n      <td>None</td>\n      <td>None</td>\n      <td>&amp;rdquo; *ku=ros de\\ tau=ta a)kou/sas kai\\ ou) ...</td>\n      <td>&amp;ρδθυο; Κῦρος δὲ ταῦτα ἀκούσας καὶ οὐ θωμάσας ...</td>\n    </tr>\n    <tr>\n      <th>4461</th>\n      <td>9</td>\n      <td>122</td>\n      <td>4</td>\n      <td>None</td>\n      <td>None</td>\n      <td>w(/ste suggno/ntes *pe/rsai oi)/xonto a)posta/...</td>\n      <td>ὥστε συγγνόντες Πέρσαι οἴχοντο ἀποστάντες, ἑσσ...</td>\n    </tr>\n  </tbody>\n</table>\n<p>4462 rows × 7 columns</p>\n</div>"
     },
     "execution_count": 4,
     "metadata": {},
     "output_type": "execute_result"
    }
   ],
   "source": [
    "df"
   ],
   "metadata": {
    "collapsed": false
   }
  },
  {
   "cell_type": "code",
   "execution_count": null,
   "outputs": [],
   "source": [],
   "metadata": {
    "collapsed": false
   }
  }
 ],
 "metadata": {
  "kernelspec": {
   "display_name": "Python 3",
   "language": "python",
   "name": "python3"
  },
  "language_info": {
   "codemirror_mode": {
    "name": "ipython",
    "version": 2
   },
   "file_extension": ".py",
   "mimetype": "text/x-python",
   "name": "python",
   "nbconvert_exporter": "python",
   "pygments_lexer": "ipython2",
   "version": "2.7.6"
  }
 },
 "nbformat": 4,
 "nbformat_minor": 0
}
