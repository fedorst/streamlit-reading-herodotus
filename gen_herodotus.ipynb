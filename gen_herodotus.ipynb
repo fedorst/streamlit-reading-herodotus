{
 "cells": [
  {
   "cell_type": "code",
   "execution_count": 1,
   "metadata": {
    "collapsed": true
   },
   "outputs": [
    {
     "data": {
      "text/plain": "cltk 1.1.6 (c:\\users\\annet\\anaconda3\\lib\\site-packages)"
     },
     "execution_count": 1,
     "metadata": {},
     "output_type": "execute_result"
    }
   ],
   "source": [
    "import cltk\n",
    "import os\n",
    "from pathlib import Path\n",
    "import json\n",
    "import pandas as pd\n",
    "from beta_code import beta_code_to_greek, greek_to_beta_code\n",
    "from xmlUtils import XMLTag, TagType, TagListContentExtractor\n",
    "from collections import Counter\n",
    "\n",
    "cltk.curr_version"
   ]
  },
  {
   "cell_type": "code",
   "execution_count": 2,
   "outputs": [],
   "source": [
    "fc = cltk.data.fetch.FetchCorpus(\"grc\")"
   ],
   "metadata": {
    "collapsed": false
   }
  },
  {
   "cell_type": "code",
   "execution_count": 3,
   "outputs": [],
   "source": [
    "lexica_dir = f\"{str(Path.home())}\\\\cltk_data\\\\grc\\\\lexicon\\\\greek_lexica_perseus\"\n",
    "if not os.path.exists(lexica_dir):\n",
    "    fc.import_corpus(\"greek_lexica_perseus\")\n",
    "lex1, lex2 = json.load(open(f\"{lexica_dir}\\\\greek-analyses_1.json\", \"r\", encoding='utf-8')), json.load(open(f\"{lexica_dir}\\\\greek-analyses_2.json\", \"r\", encoding='utf-8'))"
   ],
   "metadata": {
    "collapsed": false
   }
  },
  {
   "cell_type": "code",
   "execution_count": 4,
   "outputs": [],
   "source": [
    "perseus_dir = f\"{str(Path.home())}\\\\cltk_data\\\\grc\\\\text\\\\grc_text_perseus\"\n",
    "working_dir = f\"{perseus_dir}\\\\Herodotus\\\\opensource\"\n",
    "if not os.path.exists(perseus_dir):\n",
    "    fc.import_corpus(\"grc_text_perseus\")"
   ],
   "metadata": {
    "collapsed": false
   }
  },
  {
   "cell_type": "code",
   "execution_count": 6,
   "outputs": [],
   "source": [
    "raw_gk = open(f\"{working_dir}\\\\hdt_gk.xml\", \"r\").read()"
   ],
   "metadata": {
    "collapsed": false
   }
  },
  {
   "cell_type": "code",
   "execution_count": 7,
   "outputs": [],
   "source": [
    "def get_all_elements(corpora):\n",
    "    processed_content = []\n",
    "    curr_element = \"\"\n",
    "    for i in range(len(corpora)):\n",
    "        c = corpora[i]\n",
    "        if c == \"<\":\n",
    "            processed_content.append(curr_element)\n",
    "            curr_element = \"<\"\n",
    "        elif c == \">\":\n",
    "            processed_content.append(curr_element + \">\")\n",
    "            curr_element = \"\"\n",
    "        else:\n",
    "            curr_element += c\n",
    "    return processed_content\n",
    "\n",
    "\n",
    "#tags_to_be_removed = [\"/l\", \"\\n\", \".\\n\", \"\\n\\n\", \"\\n\\n\\n\", \"l\", \"p\", \"/p\", \"/body\", \"/text\", '/TEI.2', \"\"]\n",
    "tags_to_be_removed = [\"\", \"\\n\", \"\\n\"*2, \"\\n\"*3, \"<p>\", \"</p>\"]\n",
    "def clean_tags(all_tags):\n",
    "    all_tags = all_tags[all_tags.index(\"<body>\")+1:]\n",
    "    all_tags = all_tags[:all_tags.index(\"</body>\")]\n",
    "    all_tags = [t.strip(\"\\n\") for t in all_tags if t not in tags_to_be_removed]\n",
    "    return all_tags\n",
    "\n",
    "def remove_between_tag_old(all_tags, tag_type=\"note\"):\n",
    "    filtering_out = False\n",
    "    filtered_tags = []\n",
    "    for tag in all_tags:\n",
    "        #if tag.isTag and tag.tagName == tag_type and tag.tagType == TagType.OPENING:\n",
    "        if tag.startswith(f\"<{tag_type} \") or tag.startswith(f\"<{tag_type}>\"):\n",
    "            filtering_out = True\n",
    "            continue\n",
    "        #elif tag.isTag and tag.tagName == tag_type and tag.tagType == TagType.CLOSING:\n",
    "        elif tag.startswith(f\"</{tag_type}\") or tag.startswith(f\"</{tag_type}>\"):\n",
    "            filtering_out = False\n",
    "            continue\n",
    "        if not filtering_out:\n",
    "            filtered_tags.append(tag)\n",
    "    return filtered_tags\n",
    "\n",
    "\n",
    "def remove_tags(all_tags, tag_type, keep_content=True):\n",
    "    filtering_out = False\n",
    "    filtered_tags = []\n",
    "    for tag in all_tags:\n",
    "        if tag.isTag and tag.tagName == tag_type and tag.tagType == TagType.OPENING:\n",
    "        #if tag.startswith(f\"<{tag_type} \") or tag.startswith(f\"<{tag_type}>\"):\n",
    "            filtering_out = True\n",
    "            continue\n",
    "        elif tag.isTag and tag.tagName == tag_type and tag.tagType == TagType.CLOSING:\n",
    "        # elif tag.startswith(f\"</{tag_type}\") or tag.startswith(f\"</{tag_type}>\"):\n",
    "            filtering_out = False\n",
    "            continue\n",
    "        if not filtering_out or keep_content:\n",
    "            filtered_tags.append(tag)\n",
    "    return filtered_tags\n",
    "\n",
    "xml_args_regex = r'\\w+=\\\"[^\\\"]+\\\"'\n",
    "# hierarchy = [\"chapter\", \"section\", \"para\"]\n",
    "def args_to_obj(args):\n",
    "    o = {}\n",
    "    for arg in args:\n",
    "        k,v = arg.split(\"=\")\n",
    "        o[k] = v.strip('\"')\n",
    "    return o\n",
    "\n",
    "empty_properties = {\n",
    "    \"book\": None,\n",
    "    \"chapter\": None,\n",
    "    \"section\": None,\n",
    "    \"quote\": None,\n",
    "    \"source\": None\n",
    "}\n",
    "\n",
    "def flatten_text_tags(all_tags):\n",
    "    output = []\n",
    "    flattening = False\n",
    "    text_so_far = []\n",
    "    for tag in all_tags:\n",
    "        if tag.tagName == \"text\":\n",
    "            if not flattening:\n",
    "                flattening = True\n",
    "            text_so_far.append(tag)\n",
    "        else:\n",
    "            flattening = False\n",
    "            if text_so_far != []:\n",
    "                newTag = XMLTag(\"\".join(t.string for t in text_so_far))\n",
    "                output.append(newTag)\n",
    "                text_so_far = []\n",
    "            output.append(tag)\n",
    "    return output\n",
    "\n",
    "# then, group text. if not quote, join by concat\n",
    "# if quote is not none, join with \"\\n\""
   ],
   "metadata": {
    "collapsed": false
   }
  },
  {
   "cell_type": "code",
   "execution_count": 178,
   "outputs": [
    {
     "name": "stdout",
     "output_type": "stream",
     "text": [
      "12327\n",
      "12254\n"
     ]
    }
   ],
   "source": [
    "all_elements_gk = get_all_elements(raw_gk)\n",
    "all_elements_gk = clean_tags(all_elements_gk)\n",
    "all_elements_gk = [XMLTag(e) for e in all_elements_gk]\n",
    "all_elements_gk = remove_tags(all_elements_gk, \"note\", keep_content=False)\n",
    "print(len(all_elements_gk))\n",
    "all_elements_gk = flatten_text_tags(all_elements_gk)\n",
    "print(len(all_elements_gk))\n",
    "text = TagListContentExtractor(all_elements_gk).parse_greek()\n",
    "text_df = pd.DataFrame(text).astype(str)\n",
    "text_df.text = text_df.text.str.strip(\" \\n\")\n",
    "text_df[\"text_g\"] = text_df.text.apply(beta_code_to_greek)"
   ],
   "metadata": {
    "collapsed": false
   }
  },
  {
   "cell_type": "code",
   "execution_count": 179,
   "outputs": [
    {
     "data": {
      "text/plain": "     book chapter section quote source  \\\n0       1       1       0  None   None   \n1       1       1       1  None   None   \n2       1       1       2  None   None   \n3       1       1       3  None   None   \n4       1       1       4  None   None   \n...   ...     ...     ...   ...    ...   \n4385    9     121       1  None   None   \n4386    9     122       1  None   None   \n4387    9     122       2  None   None   \n4388    9     122       3  None   None   \n4389    9     122       4  None   None   \n\n                                                   text  \\\n0     *(hrodo/tou *(alikarnhsse/os i(stori/hs a)po/d...   \n1     *perse/wn me/n nun oi( lo/gioi *foi/nikas ai)t...   \n2     to\\ de\\ *)/argos tou=ton to\\n xro/non proei=xe...   \n3     pe/mpth| de\\ h)\\ e(/kth| h(me/rh| a)p' h(=s a)...   \n4     tau/tas sta/sas kata/ pru/mnhn th=s neo\\s w)ne...   \n...                                                 ...   \n4385  tau=ta de\\ poih/santes a)pe/pleon e)s th\\n *(e...   \n4386  tou/tou de\\ *)artau/+ktew tou= a)nakremasqe/nt...   \n4387  &ldquo;e)pei\\ *zeu\\s *pe/rsh|si h(gemoni/hn di...   \n4388  &rdquo; *ku=ros de\\ tau=ta a)kou/sas kai\\ ou) ...   \n4389  w(/ste suggno/ntes *pe/rsai oi)/xonto a)posta/...   \n\n                                                 text_g  \n0     Ἡροδότου Ἁλικαρνησσέος ἱστορίης ἀπόδεξις ἥδε, ...  \n1     Περσέων μέν νυν οἱ λόγιοι Φοίνικας αἰτίους φασ...  \n2     τὸ δὲ Ἄργος τοῦτον τὸν χρόνον προεῖχε ἅπασι τῶ...  \n3     πέμπτῃ δὲ ἢ ἕκτῃ ἡμέρῃ ἀπ' ἧς ἀπίκοντο, ἐξεμπο...  \n4     ταύτας στάσας κατά πρύμνην τῆς νεὸς ὠνέεσθαι τ...  \n...                                                 ...  \n4385  ταῦτα δὲ ποιήσαντες ἀπέπλεον ἐς τὴν Ἑλλάδα, τά...  \n4386  τούτου δὲ Ἀρταΰκτεω τοῦ ἀνακρεμασθέντος προπάτ...  \n4387  &λδθυο;ἐπεὶ Ζεὺς Πέρσῃσι ἡγεμονίην διδοῖ, ἀνδρ...  \n4388  &ρδθυο; Κῦρος δὲ ταῦτα ἀκούσας καὶ οὐ θωμάσας ...  \n4389  ὥστε συγγνόντες Πέρσαι οἴχοντο ἀποστάντες, ἑσσ...  \n\n[4390 rows x 7 columns]",
      "text/html": "<div>\n<style scoped>\n    .dataframe tbody tr th:only-of-type {\n        vertical-align: middle;\n    }\n\n    .dataframe tbody tr th {\n        vertical-align: top;\n    }\n\n    .dataframe thead th {\n        text-align: right;\n    }\n</style>\n<table border=\"1\" class=\"dataframe\">\n  <thead>\n    <tr style=\"text-align: right;\">\n      <th></th>\n      <th>book</th>\n      <th>chapter</th>\n      <th>section</th>\n      <th>quote</th>\n      <th>source</th>\n      <th>text</th>\n      <th>text_g</th>\n    </tr>\n  </thead>\n  <tbody>\n    <tr>\n      <th>0</th>\n      <td>1</td>\n      <td>1</td>\n      <td>0</td>\n      <td>None</td>\n      <td>None</td>\n      <td>*(hrodo/tou *(alikarnhsse/os i(stori/hs a)po/d...</td>\n      <td>Ἡροδότου Ἁλικαρνησσέος ἱστορίης ἀπόδεξις ἥδε, ...</td>\n    </tr>\n    <tr>\n      <th>1</th>\n      <td>1</td>\n      <td>1</td>\n      <td>1</td>\n      <td>None</td>\n      <td>None</td>\n      <td>*perse/wn me/n nun oi( lo/gioi *foi/nikas ai)t...</td>\n      <td>Περσέων μέν νυν οἱ λόγιοι Φοίνικας αἰτίους φασ...</td>\n    </tr>\n    <tr>\n      <th>2</th>\n      <td>1</td>\n      <td>1</td>\n      <td>2</td>\n      <td>None</td>\n      <td>None</td>\n      <td>to\\ de\\ *)/argos tou=ton to\\n xro/non proei=xe...</td>\n      <td>τὸ δὲ Ἄργος τοῦτον τὸν χρόνον προεῖχε ἅπασι τῶ...</td>\n    </tr>\n    <tr>\n      <th>3</th>\n      <td>1</td>\n      <td>1</td>\n      <td>3</td>\n      <td>None</td>\n      <td>None</td>\n      <td>pe/mpth| de\\ h)\\ e(/kth| h(me/rh| a)p' h(=s a)...</td>\n      <td>πέμπτῃ δὲ ἢ ἕκτῃ ἡμέρῃ ἀπ' ἧς ἀπίκοντο, ἐξεμπο...</td>\n    </tr>\n    <tr>\n      <th>4</th>\n      <td>1</td>\n      <td>1</td>\n      <td>4</td>\n      <td>None</td>\n      <td>None</td>\n      <td>tau/tas sta/sas kata/ pru/mnhn th=s neo\\s w)ne...</td>\n      <td>ταύτας στάσας κατά πρύμνην τῆς νεὸς ὠνέεσθαι τ...</td>\n    </tr>\n    <tr>\n      <th>...</th>\n      <td>...</td>\n      <td>...</td>\n      <td>...</td>\n      <td>...</td>\n      <td>...</td>\n      <td>...</td>\n      <td>...</td>\n    </tr>\n    <tr>\n      <th>4385</th>\n      <td>9</td>\n      <td>121</td>\n      <td>1</td>\n      <td>None</td>\n      <td>None</td>\n      <td>tau=ta de\\ poih/santes a)pe/pleon e)s th\\n *(e...</td>\n      <td>ταῦτα δὲ ποιήσαντες ἀπέπλεον ἐς τὴν Ἑλλάδα, τά...</td>\n    </tr>\n    <tr>\n      <th>4386</th>\n      <td>9</td>\n      <td>122</td>\n      <td>1</td>\n      <td>None</td>\n      <td>None</td>\n      <td>tou/tou de\\ *)artau/+ktew tou= a)nakremasqe/nt...</td>\n      <td>τούτου δὲ Ἀρταΰκτεω τοῦ ἀνακρεμασθέντος προπάτ...</td>\n    </tr>\n    <tr>\n      <th>4387</th>\n      <td>9</td>\n      <td>122</td>\n      <td>2</td>\n      <td>None</td>\n      <td>None</td>\n      <td>&amp;ldquo;e)pei\\ *zeu\\s *pe/rsh|si h(gemoni/hn di...</td>\n      <td>&amp;λδθυο;ἐπεὶ Ζεὺς Πέρσῃσι ἡγεμονίην διδοῖ, ἀνδρ...</td>\n    </tr>\n    <tr>\n      <th>4388</th>\n      <td>9</td>\n      <td>122</td>\n      <td>3</td>\n      <td>None</td>\n      <td>None</td>\n      <td>&amp;rdquo; *ku=ros de\\ tau=ta a)kou/sas kai\\ ou) ...</td>\n      <td>&amp;ρδθυο; Κῦρος δὲ ταῦτα ἀκούσας καὶ οὐ θωμάσας ...</td>\n    </tr>\n    <tr>\n      <th>4389</th>\n      <td>9</td>\n      <td>122</td>\n      <td>4</td>\n      <td>None</td>\n      <td>None</td>\n      <td>w(/ste suggno/ntes *pe/rsai oi)/xonto a)posta/...</td>\n      <td>ὥστε συγγνόντες Πέρσαι οἴχοντο ἀποστάντες, ἑσσ...</td>\n    </tr>\n  </tbody>\n</table>\n<p>4390 rows × 7 columns</p>\n</div>"
     },
     "execution_count": 179,
     "metadata": {},
     "output_type": "execute_result"
    }
   ],
   "source": [
    "text_df"
   ],
   "metadata": {
    "collapsed": false
   }
  },
  {
   "cell_type": "code",
   "execution_count": 180,
   "outputs": [],
   "source": [
    "#[(e.tagName, e.tagType, e.string, e.tagProps) for e in all_elements_gk]"
   ],
   "metadata": {
    "collapsed": false
   }
  },
  {
   "cell_type": "code",
   "execution_count": 182,
   "outputs": [],
   "source": [
    "raw_eng = open(f\"{working_dir}\\\\hdt_eng.xml\", \"r\").read()"
   ],
   "metadata": {
    "collapsed": false
   }
  },
  {
   "cell_type": "code",
   "execution_count": 183,
   "outputs": [],
   "source": [
    "def fix_foreign(all_tags):\n",
    "    output = []\n",
    "    parsing_foreign = False\n",
    "    foreign_list = []\n",
    "    foreign_lang = None\n",
    "    for tag in all_tags:\n",
    "        if tag.tagName == \"foreign\" and tag.tagType == TagType.OPENING:\n",
    "            parsing_foreign = True\n",
    "            foreign_list = []\n",
    "            foreign_lang = tag.tagProps[\"lang\"]\n",
    "        elif tag.tagName == \"foreign\" and tag.tagType == TagType.CLOSING:\n",
    "            parsing_foreign = False\n",
    "            foreign_str = \"\".join(t.string for t in foreign_list if t.tagName == \"text\")\n",
    "            if foreign_lang == \"greek\":\n",
    "                foreign_str = beta_code_to_greek(foreign_str)\n",
    "            newTag = XMLTag(foreign_str)\n",
    "            output.append(newTag)\n",
    "            foreign_lang = None\n",
    "        else:\n",
    "            if parsing_foreign:\n",
    "                foreign_list.append(tag)\n",
    "            else:\n",
    "                output.append(tag)\n",
    "    return output\n",
    "\n",
    "def taglist_to_string(all_tags):\n",
    "    s = \"\".join(e.string for e in all_tags)\n",
    "    return s\n",
    "\n",
    "def process_notes(all_tags):\n",
    "    output = []\n",
    "    looping_text = False\n",
    "    #note_count = 0\n",
    "    note_count = 0\n",
    "    looping_note = False\n",
    "    text_so_far = []\n",
    "    note_so_far = []\n",
    "    notes_so_far = []\n",
    "    for tag in all_tags:\n",
    "        #print(f\"{tag.string=}, {looping_text=}, {looping_note=}\")\n",
    "        if tag.tagName == \"text\":\n",
    "            if looping_note:\n",
    "                note_so_far.append(tag)\n",
    "            elif looping_text:\n",
    "                text_so_far.append(tag)\n",
    "            else:\n",
    "                looping_text = True\n",
    "                text_so_far = [tag]\n",
    "                notes_so_far = []\n",
    "        elif tag.tagName == \"note\":\n",
    "            if tag.tagType == TagType.OPENING:\n",
    "                looping_note = True\n",
    "                note_so_far = []\n",
    "                text_so_far.append(XMLTag(f\"[^{note_count}]\"))\n",
    "                note_count += 1\n",
    "            else:\n",
    "                looping_note = False\n",
    "                note_content = \"\".join(e.string for e in note_so_far)\n",
    "                notes_so_far.append(note_content)\n",
    "        else:\n",
    "            if text_so_far != []:\n",
    "                if notes_so_far != []:\n",
    "                    text_so_far.append(XMLTag(\"\\n\\n\"))\n",
    "                    for i, note in enumerate(notes_so_far):\n",
    "                        text_so_far.append(XMLTag(f\"[^{i}]: {note}\\n\"))\n",
    "                newTag = XMLTag(\"\".join(e.string for e in text_so_far))\n",
    "                output.append(newTag)\n",
    "            note_count = 0\n",
    "            looping_text = False\n",
    "            looping_note = False\n",
    "            text_so_far = []\n",
    "            note_so_far = []\n",
    "            notes_so_far = []\n",
    "            output.append(tag)\n",
    "    return output\n",
    "\n"
   ],
   "metadata": {
    "collapsed": false
   }
  },
  {
   "cell_type": "code",
   "execution_count": 184,
   "outputs": [],
   "source": [
    "# for testing purposes\n",
    "notes_processed = process_notes([\n",
    "    XMLTag('<milestone n=\"18\" unit=\"chapter\"/>'),\n",
    "    XMLTag('<milestone n=\"1\" unit=\"section\"/>'),\n",
    "    XMLTag('<milestone unit=\"para\"/>'),\n",
    "    XMLTag('When the horsemen had ridden away, Mardonius sent a herald, with this message: &ldquo;Men of Phocis, be of good courage, for you have shown yourselves to be valiant men, and not as it was reported to me. Now push this war zealously forward, for you will outdo neither myself nor the king in the rendering of service.&rdquo;'),\n",
    "    XMLTag('<note anchored=\"yes\" resp=\"ed\">'),\n",
    "    XMLTag('That is, serve us and we will serve you.'),\n",
    "    XMLTag('</note>'),\n",
    "    XMLTag(' This is how the matter of the Phocians'),\n",
    "    XMLTag('<note anchored=\"yes\" resp=\"ed\">'),\n",
    "    XMLTag('From the region of Phocis.'),\n",
    "    XMLTag('</note>'),\n",
    "    XMLTag(' turned out.'),\n",
    "    XMLTag('<milestone n=\"19\" unit=\"chapter\"/>'),\n",
    "    XMLTag('<milestone n=\"19\" unit=\"chapter\"/>'),\n",
    "    XMLTag('When the horsemen had ridden away, Mardonius sent a herald, with this message: &ldquo;Men of Phocis, be of good courage, for you have shown yourselves to be valiant men, and not as it was reported to me. Now push this war zealously forward, for you will outdo neither myself nor the king in the rendering of service.&rdquo;'),\n",
    "    XMLTag('<note anchored=\"yes\" resp=\"ed\">'),\n",
    "    XMLTag('That is, serve us and we will serve you.'),\n",
    "    XMLTag('</note>'),\n",
    "    XMLTag(' This is how the matter of the Phocians'),\n",
    "    XMLTag('<note anchored=\"yes\" resp=\"ed\">'),\n",
    "    XMLTag('From the region of Phocis.'),\n",
    "    XMLTag('</note>'),\n",
    "    XMLTag(' turned out.'),\n",
    "    XMLTag('<milestone n=\"19\" unit=\"chapter\"/>'),\n",
    "    XMLTag('<milestone n=\"19\" unit=\"chapter\"/>')\n",
    "])\n",
    "#notes_processed\n",
    "#[e.string for e in notes_processed]"
   ],
   "metadata": {
    "collapsed": false
   }
  },
  {
   "cell_type": "code",
   "execution_count": 185,
   "outputs": [],
   "source": [
    "all_elements_eng = get_all_elements(raw_eng)\n",
    "all_elements_eng = clean_tags(all_elements_eng)\n",
    "all_elements_eng = [XMLTag(e) for e in all_elements_eng]\n",
    "tags_to_be_removed_keep_content = [\"name\", \"placeName\", \"date\", \"title\", \"dateRange\", \"cit\", \"bibl\"]\n",
    "for tagName in tags_to_be_removed_keep_content:\n",
    "    all_elements_eng = remove_tags(all_elements_eng, tagName, keep_content=True)\n",
    "# TODO: handle bibl separately otherwise problems with quotes?\n",
    "all_elements_eng = fix_foreign(all_elements_eng)\n",
    "all_elements_eng = flatten_text_tags(all_elements_eng)\n",
    "all_elements_eng = process_notes(all_elements_eng)\n",
    "text_eng = TagListContentExtractor(all_elements_eng).parse_eng()\n",
    "df_text_eng = pd.DataFrame(text_eng).astype(str)\n",
    "df_text_eng.text = df_text_eng.text.str.strip(\" \\n\")\n",
    "df_text_eng = df_text_eng.rename(columns={\"text\": \"text_eng\"})\n",
    "\n",
    "\n",
    "# DONE name: remove tag, retain contents\n",
    "# DONE milestone: handle as before\n",
    "# DONE placeName: remove tag, retain contents\n",
    "# DONE note: loop over texts, same logic as flattening. when happen upon a note node, do not stop loop, but rather, save the note into a list, and in its place, leave [^notecount] as text tag. When loop over (happen upon non-text, non-node), add as many new text tags as there are nodes in the format [^notecount]: note content\n",
    "# DONE foreign: if <foreign lang=\"greek\", replace beta code. otherwise, remove tag, do not touch in-between.\n",
    "# DONE date: remove tag, retain contents\n",
    "# DONE title: remove tag, retain contents\n",
    "# DONE div1: handle as before\n",
    "# DONE dateRange: remove tag, retain contents\n",
    "# DONE? bibl: remove tag, retain contents # NVM when bibl inside note, remove tag, do not touch in-between. Otherwise, add to last text row\n",
    "# DONE quote: join l's within\n",
    "# DONE cit: remove tag, keep content?. TODO: later, maybe make words within it italic?\n",
    "# DONE text: merge consecutive TEXT tags"
   ],
   "metadata": {
    "collapsed": false
   }
  },
  {
   "cell_type": "code",
   "execution_count": 186,
   "outputs": [],
   "source": [
    "def get_rows(df, book, chapter, section):\n",
    "    return df[(df.book == str(book)) & (df.chapter == str(chapter)) & (df.section == str(section))]"
   ],
   "metadata": {
    "collapsed": false
   }
  },
  {
   "cell_type": "code",
   "execution_count": 187,
   "outputs": [],
   "source": [
    "# fix 1: wrong section number in eng file\n",
    "idx = df_text_eng[(df_text_eng.book == \"1\") & (df_text_eng.chapter == \"74\") & (df_text_eng.section == \"6\")].index[0]\n",
    "df_text_eng.loc[idx, \"section\"] = \"5\""
   ],
   "metadata": {
    "collapsed": false
   }
  },
  {
   "cell_type": "code",
   "execution_count": 188,
   "outputs": [],
   "source": [
    "# fix 2: double section\n",
    "idx = df_text_eng[(df_text_eng.book == \"3\") & (df_text_eng.chapter == \"39\") & (df_text_eng.section == \"2\")].index[1]\n",
    "df_text_eng.loc[idx, \"section\"] = \"3\""
   ],
   "metadata": {
    "collapsed": false
   }
  },
  {
   "cell_type": "code",
   "execution_count": 189,
   "outputs": [],
   "source": [
    "# fix 3: double section\n",
    "idx = get_rows(df_text_eng, 4, 203, 1).index[1]\n",
    "df_text_eng.loc[idx, \"section\"] = \"3\""
   ],
   "metadata": {
    "collapsed": false
   }
  },
  {
   "cell_type": "code",
   "execution_count": 190,
   "outputs": [],
   "source": [
    "# fix 4: misnumbered section\n",
    "idx = get_rows(df_text_eng, 6, 11, 4).index[0]\n",
    "df_text_eng.loc[idx, \"section\"] = \"3\""
   ],
   "metadata": {
    "collapsed": false
   }
  },
  {
   "cell_type": "code",
   "execution_count": 191,
   "outputs": [],
   "source": [
    "# fix 5: misnumbered section\n",
    "idx = get_rows(df_text_eng, 6, 49, 3).index[0]\n",
    "df_text_eng.loc[idx, \"section\"] = \"2\""
   ],
   "metadata": {
    "collapsed": false
   }
  },
  {
   "cell_type": "code",
   "execution_count": 192,
   "outputs": [],
   "source": [
    "# fix 6: misnumbered section\n",
    "idx = get_rows(df_text_eng, 6, 58, 6).index[0]\n",
    "df_text_eng.loc[idx, \"section\"] = \"3\""
   ],
   "metadata": {
    "collapsed": false
   }
  },
  {
   "cell_type": "code",
   "execution_count": 193,
   "outputs": [],
   "source": [
    "# fix 7: misnumbered section\n",
    "idx = get_rows(df_text_eng, 7, 19, 3).index[0]\n",
    "df_text_eng.loc[idx, \"section\"] = \"2\""
   ],
   "metadata": {
    "collapsed": false
   }
  },
  {
   "cell_type": "code",
   "execution_count": 194,
   "outputs": [],
   "source": [
    "# fix 8: misnumbered section\n",
    "idx = get_rows(df_text_eng, 7, 37, 4).index[0]\n",
    "df_text_eng.loc[idx, \"section\"] = \"3\""
   ],
   "metadata": {
    "collapsed": false
   }
  },
  {
   "cell_type": "code",
   "execution_count": 195,
   "outputs": [],
   "source": [
    "# fix 9: misnumbered section\n",
    "idx = get_rows(df_text_eng, 7, 41, 3).index[0]\n",
    "df_text_eng.loc[idx, \"section\"] = \"2\""
   ],
   "metadata": {
    "collapsed": false
   }
  },
  {
   "cell_type": "code",
   "execution_count": 196,
   "outputs": [],
   "source": [
    "# fix 10: misnumbered section\n",
    "idx = get_rows(df_text_eng, 7, 67, 3).index[0]\n",
    "df_text_eng.loc[idx, \"section\"] = \"2\""
   ],
   "metadata": {
    "collapsed": false
   }
  },
  {
   "cell_type": "code",
   "execution_count": 197,
   "outputs": [],
   "source": [
    "# fix 11: misnumbered section\n",
    "idx = get_rows(df_text_eng, 7, 83, 3).index[0]\n",
    "df_text_eng.loc[idx, \"section\"] = \"2\""
   ],
   "metadata": {
    "collapsed": false
   }
  },
  {
   "cell_type": "code",
   "execution_count": 198,
   "outputs": [],
   "source": [
    "# fix 12: double section\n",
    "idx = get_rows(text_df, 6, 5, 2).index[1]\n",
    "text_df.loc[idx, \"section\"] = \"3\""
   ],
   "metadata": {
    "collapsed": false
   }
  },
  {
   "cell_type": "code",
   "execution_count": 199,
   "outputs": [],
   "source": [
    "# fix 13: double section\n",
    "idx = get_rows(text_df, 8, 135, 2).index[1]\n",
    "text_df.loc[idx, \"section\"] = \"3\""
   ],
   "metadata": {
    "collapsed": false
   }
  },
  {
   "cell_type": "code",
   "execution_count": 204,
   "outputs": [],
   "source": [
    "assert len(set(text_df.set_index([\"book\", \"chapter\", \"section\"]).index) - set(df_text_eng.set_index([\"book\", \"chapter\", \"section\"]).index)) == 0"
   ],
   "metadata": {
    "collapsed": false
   }
  },
  {
   "cell_type": "code",
   "execution_count": 205,
   "outputs": [],
   "source": [
    "assert len(set(df_text_eng.set_index([\"book\", \"chapter\", \"section\"]).index) - set(text_df.set_index([\"book\", \"chapter\", \"section\"]).index)) == 0"
   ],
   "metadata": {
    "collapsed": false
   }
  },
  {
   "cell_type": "code",
   "execution_count": 206,
   "outputs": [],
   "source": [
    "text_df.to_parquet(\"herodotus_books_grc.parquet\")\n",
    "df_text_eng.to_parquet(\"herodotus_books_eng.parquet\")"
   ],
   "metadata": {
    "collapsed": false
   }
  },
  {
   "cell_type": "code",
   "execution_count": 880,
   "outputs": [],
   "source": [
    "#text_df[text_df.quote != \"None\"][\"text_g\"].iloc[0]\n",
    "#text_df[\"text_g\"].iloc[0]"
   ],
   "metadata": {
    "collapsed": false
   }
  },
  {
   "cell_type": "code",
   "execution_count": 884,
   "outputs": [
    {
     "data": {
      "text/plain": "     book chapter section quote source  \\\n0       1       1       0  None   None   \n1       1       1       1  None   None   \n2       1       1       2  None   None   \n3       1       1       3  None   None   \n4       1       1       4  None   None   \n...   ...     ...     ...   ...    ...   \n4457    9     121       1  None   None   \n4458    9     122       1  None   None   \n4459    9     122       2  None   None   \n4460    9     122       3  None   None   \n4461    9     122       4  None   None   \n\n                                                   text  \\\n0     *(hrodo/tou *(alikarnhsse/os i(stori/hs a)po/d...   \n1     *perse/wn me/n nun oi( lo/gioi *foi/nikas ai)t...   \n2     to\\ de\\ *)/argos tou=ton to\\n xro/non proei=xe...   \n3     pe/mpth| de\\ h)\\ e(/kth| h(me/rh| a)p' h(=s a)...   \n4     tau/tas sta/sas kata/ pru/mnhn th=s neo\\s w)ne...   \n...                                                 ...   \n4457  tau=ta de\\ poih/santes a)pe/pleon e)s th\\n *(e...   \n4458  tou/tou de\\ *)artau/+ktew tou= a)nakremasqe/nt...   \n4459  &ldquo;e)pei\\ *zeu\\s *pe/rsh|si h(gemoni/hn di...   \n4460  &rdquo; *ku=ros de\\ tau=ta a)kou/sas kai\\ ou) ...   \n4461  w(/ste suggno/ntes *pe/rsai oi)/xonto a)posta/...   \n\n                                                 text_g  \n0     Ἡροδότου Ἁλικαρνησσέος ἱστορίης ἀπόδεξις ἥδε, ...  \n1     Περσέων μέν νυν οἱ λόγιοι Φοίνικας αἰτίους φασ...  \n2     τὸ δὲ Ἄργος τοῦτον τὸν χρόνον προεῖχε ἅπασι τῶ...  \n3     πέμπτῃ δὲ ἢ ἕκτῃ ἡμέρῃ ἀπ' ἧς ἀπίκοντο, ἐξεμπο...  \n4     ταύτας στάσας κατά πρύμνην τῆς νεὸς ὠνέεσθαι τ...  \n...                                                 ...  \n4457  ταῦτα δὲ ποιήσαντες ἀπέπλεον ἐς τὴν Ἑλλάδα, τά...  \n4458  τούτου δὲ Ἀρταΰκτεω τοῦ ἀνακρεμασθέντος προπάτ...  \n4459  &λδθυο;ἐπεὶ Ζεὺς Πέρσῃσι ἡγεμονίην διδοῖ, ἀνδρ...  \n4460  &ρδθυο; Κῦρος δὲ ταῦτα ἀκούσας καὶ οὐ θωμάσας ...  \n4461  ὥστε συγγνόντες Πέρσαι οἴχοντο ἀποστάντες, ἑσσ...  \n\n[4462 rows x 7 columns]",
      "text/html": "<div>\n<style scoped>\n    .dataframe tbody tr th:only-of-type {\n        vertical-align: middle;\n    }\n\n    .dataframe tbody tr th {\n        vertical-align: top;\n    }\n\n    .dataframe thead th {\n        text-align: right;\n    }\n</style>\n<table border=\"1\" class=\"dataframe\">\n  <thead>\n    <tr style=\"text-align: right;\">\n      <th></th>\n      <th>book</th>\n      <th>chapter</th>\n      <th>section</th>\n      <th>quote</th>\n      <th>source</th>\n      <th>text</th>\n      <th>text_g</th>\n    </tr>\n  </thead>\n  <tbody>\n    <tr>\n      <th>0</th>\n      <td>1</td>\n      <td>1</td>\n      <td>0</td>\n      <td>None</td>\n      <td>None</td>\n      <td>*(hrodo/tou *(alikarnhsse/os i(stori/hs a)po/d...</td>\n      <td>Ἡροδότου Ἁλικαρνησσέος ἱστορίης ἀπόδεξις ἥδε, ...</td>\n    </tr>\n    <tr>\n      <th>1</th>\n      <td>1</td>\n      <td>1</td>\n      <td>1</td>\n      <td>None</td>\n      <td>None</td>\n      <td>*perse/wn me/n nun oi( lo/gioi *foi/nikas ai)t...</td>\n      <td>Περσέων μέν νυν οἱ λόγιοι Φοίνικας αἰτίους φασ...</td>\n    </tr>\n    <tr>\n      <th>2</th>\n      <td>1</td>\n      <td>1</td>\n      <td>2</td>\n      <td>None</td>\n      <td>None</td>\n      <td>to\\ de\\ *)/argos tou=ton to\\n xro/non proei=xe...</td>\n      <td>τὸ δὲ Ἄργος τοῦτον τὸν χρόνον προεῖχε ἅπασι τῶ...</td>\n    </tr>\n    <tr>\n      <th>3</th>\n      <td>1</td>\n      <td>1</td>\n      <td>3</td>\n      <td>None</td>\n      <td>None</td>\n      <td>pe/mpth| de\\ h)\\ e(/kth| h(me/rh| a)p' h(=s a)...</td>\n      <td>πέμπτῃ δὲ ἢ ἕκτῃ ἡμέρῃ ἀπ' ἧς ἀπίκοντο, ἐξεμπο...</td>\n    </tr>\n    <tr>\n      <th>4</th>\n      <td>1</td>\n      <td>1</td>\n      <td>4</td>\n      <td>None</td>\n      <td>None</td>\n      <td>tau/tas sta/sas kata/ pru/mnhn th=s neo\\s w)ne...</td>\n      <td>ταύτας στάσας κατά πρύμνην τῆς νεὸς ὠνέεσθαι τ...</td>\n    </tr>\n    <tr>\n      <th>...</th>\n      <td>...</td>\n      <td>...</td>\n      <td>...</td>\n      <td>...</td>\n      <td>...</td>\n      <td>...</td>\n      <td>...</td>\n    </tr>\n    <tr>\n      <th>4457</th>\n      <td>9</td>\n      <td>121</td>\n      <td>1</td>\n      <td>None</td>\n      <td>None</td>\n      <td>tau=ta de\\ poih/santes a)pe/pleon e)s th\\n *(e...</td>\n      <td>ταῦτα δὲ ποιήσαντες ἀπέπλεον ἐς τὴν Ἑλλάδα, τά...</td>\n    </tr>\n    <tr>\n      <th>4458</th>\n      <td>9</td>\n      <td>122</td>\n      <td>1</td>\n      <td>None</td>\n      <td>None</td>\n      <td>tou/tou de\\ *)artau/+ktew tou= a)nakremasqe/nt...</td>\n      <td>τούτου δὲ Ἀρταΰκτεω τοῦ ἀνακρεμασθέντος προπάτ...</td>\n    </tr>\n    <tr>\n      <th>4459</th>\n      <td>9</td>\n      <td>122</td>\n      <td>2</td>\n      <td>None</td>\n      <td>None</td>\n      <td>&amp;ldquo;e)pei\\ *zeu\\s *pe/rsh|si h(gemoni/hn di...</td>\n      <td>&amp;λδθυο;ἐπεὶ Ζεὺς Πέρσῃσι ἡγεμονίην διδοῖ, ἀνδρ...</td>\n    </tr>\n    <tr>\n      <th>4460</th>\n      <td>9</td>\n      <td>122</td>\n      <td>3</td>\n      <td>None</td>\n      <td>None</td>\n      <td>&amp;rdquo; *ku=ros de\\ tau=ta a)kou/sas kai\\ ou) ...</td>\n      <td>&amp;ρδθυο; Κῦρος δὲ ταῦτα ἀκούσας καὶ οὐ θωμάσας ...</td>\n    </tr>\n    <tr>\n      <th>4461</th>\n      <td>9</td>\n      <td>122</td>\n      <td>4</td>\n      <td>None</td>\n      <td>None</td>\n      <td>w(/ste suggno/ntes *pe/rsai oi)/xonto a)posta/...</td>\n      <td>ὥστε συγγνόντες Πέρσαι οἴχοντο ἀποστάντες, ἑσσ...</td>\n    </tr>\n  </tbody>\n</table>\n<p>4462 rows × 7 columns</p>\n</div>"
     },
     "execution_count": 884,
     "metadata": {},
     "output_type": "execute_result"
    }
   ],
   "source": [
    "text_df"
   ],
   "metadata": {
    "collapsed": false
   }
  }
 ],
 "metadata": {
  "kernelspec": {
   "display_name": "Python 3",
   "language": "python",
   "name": "python3"
  },
  "language_info": {
   "codemirror_mode": {
    "name": "ipython",
    "version": 2
   },
   "file_extension": ".py",
   "mimetype": "text/x-python",
   "name": "python",
   "nbconvert_exporter": "python",
   "pygments_lexer": "ipython2",
   "version": "2.7.6"
  }
 },
 "nbformat": 4,
 "nbformat_minor": 0
}
